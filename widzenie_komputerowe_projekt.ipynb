{
  "nbformat": 4,
  "nbformat_minor": 0,
  "metadata": {
    "colab": {
      "provenance": []
    },
    "kernelspec": {
      "name": "python3",
      "display_name": "Python 3"
    },
    "language_info": {
      "name": "python"
    }
  },
  "cells": [
    {
      "cell_type": "code",
      "execution_count": null,
      "metadata": {
        "id": "er5a-1x24gog",
        "colab": {
          "base_uri": "https://localhost:8080/"
        },
        "outputId": "909dc336-2023-467f-ffd9-21f65a305e1f"
      },
      "outputs": [
        {
          "output_type": "stream",
          "name": "stdout",
          "text": [
            "Mounted at /content/gdrive\n"
          ]
        }
      ],
      "source": [
        "import urllib.request\n",
        "import os\n",
        "import cv2\n",
        "import numpy as np\n",
        "import matplotlib.pyplot as plt\n",
        "import tensorflow as tf\n",
        "from google.colab import drive\n",
        "from tensorflow.keras.models import Sequential\n",
        "from tensorflow.keras.layers import Conv2D, MaxPooling2D, Dense, Flatten, Dropout\n",
        "from tensorflow.keras.models import load_model\n",
        "from tensorflow.keras.metrics import Precision, Recall, BinaryAccuracy\n",
        "from tensorflow.keras.preprocessing.image import load_img, img_to_array, ImageDataGenerator\n",
        "\n",
        "drive.mount('/content/gdrive')\n",
        "\n",
        "gpus = tf.config.experimental.list_physical_devices('GPU')\n",
        "for gpu in gpus: \n",
        "    tf.config.experimental.set_memory_growth(gpu, True)"
      ]
    },
    {
      "cell_type": "markdown",
      "source": [
        "**Przygotowanie danych**"
      ],
      "metadata": {
        "id": "aUsioSJOvJBH"
      }
    },
    {
      "cell_type": "code",
      "source": [
        "data = tf.keras.utils.image_dataset_from_directory('/content/gdrive/MyDrive/data_widzenie')\n",
        "\n",
        "\n",
        "def wyswietl(obraz):\n",
        "  plt.imshow(obraz, cmap='gray')\n",
        "  plt.axis('off')\n",
        "  plt.show()\n",
        "\n",
        "# data_iterator = data.as_numpy_iterator()\n",
        "# batch = data_iterator.next()\n",
        "# fig, ax = plt.subplots(ncols=4, figsize=(20,20))\n",
        "# for idx, img in enumerate(batch[0][:4]):\n",
        "#     ax[idx].imshow(img.astype(int))\n",
        "#     ax[idx].title.set_text(batch[1][idx])"
      ],
      "metadata": {
        "colab": {
          "base_uri": "https://localhost:8080/"
        },
        "id": "4JAVP-6Lvmxo",
        "outputId": "845f75d4-fd32-40c9-8233-3acb194d8a27"
      },
      "execution_count": null,
      "outputs": [
        {
          "output_type": "stream",
          "name": "stdout",
          "text": [
            "Found 323 files belonging to 2 classes.\n"
          ]
        }
      ]
    },
    {
      "cell_type": "code",
      "source": [
        "nrows = 4\n",
        "ncols = 4\n",
        "data_extend_lawki = []\n",
        "for i in range (1, 21):\n",
        "  image = img_to_array(load_img('/content/gdrive/MyDrive/dat/lawki/lawka' + str(i) + '.jpg'))\n",
        "  image_ = np.expand_dims(image, axis=0)\n",
        "  imgen = ImageDataGenerator(\n",
        "    height_shift_range=0.2,\n",
        "    zoom_range=[0.5,2],\n",
        "    shear_range=50,\n",
        "    vertical_flip=True\n",
        "    )\n",
        "  img_train = imgen.flow(image_, batch_size=1, save_to_dir='/content/gdrive/MyDrive/data_widzenie/lawki_wyg')\n",
        "  for j in range(nrows):\n",
        "    for k in range(ncols):\n",
        "      image_batch = img_train.next()\n",
        "\n",
        "\n",
        "data_extend_smietniki = []\n",
        "for i in range (1, 11):\n",
        "  image = img_to_array(load_img('/content/gdrive/MyDrive/dat/smietniki/smietnik' + str(i) + '.jpg'))\n",
        "  image_ = np.expand_dims(image, axis=0)\n",
        "  imgen = ImageDataGenerator(\n",
        "    height_shift_range=0.2,\n",
        "    zoom_range=[0.5,2],\n",
        "    shear_range=50,\n",
        "    vertical_flip=True\n",
        "    )\n",
        "  img_train = imgen.flow(image_, batch_size=1, save_to_dir='/content/gdrive/MyDrive/data_widzenie/smietniki_wyg')\n",
        "  for j in range(nrows):\n",
        "    for k in range(ncols):\n",
        "      image_batch = img_train.next()\n",
        "      data_extend_smietniki.append(image_batch)"
      ],
      "metadata": {
        "id": "nRSLC465naEj"
      },
      "execution_count": null,
      "outputs": []
    },
    {
      "cell_type": "code",
      "source": [
        "data = data.map(lambda x,y: (x/255, y))\n",
        "data.as_numpy_iterator().next()"
      ],
      "metadata": {
        "id": "0-q1yLd2vGlW",
        "colab": {
          "base_uri": "https://localhost:8080/"
        },
        "outputId": "13c76737-f094-4755-9751-ec25dbd69ee4"
      },
      "execution_count": null,
      "outputs": [
        {
          "output_type": "execute_result",
          "data": {
            "text/plain": [
              "(array([[[[0.38431373, 0.42352942, 0.14901961],\n",
              "          [0.38431373, 0.42352942, 0.14901961],\n",
              "          [0.38431373, 0.42352942, 0.14901961],\n",
              "          ...,\n",
              "          [0.54420954, 0.540288  , 0.5246017 ],\n",
              "          [0.5254902 , 0.52156866, 0.5058824 ],\n",
              "          [0.5254902 , 0.52156866, 0.5058824 ]],\n",
              " \n",
              "         [[0.38431373, 0.42352942, 0.14901961],\n",
              "          [0.38431373, 0.42352942, 0.14901961],\n",
              "          [0.38431373, 0.42352942, 0.14901961],\n",
              "          ...,\n",
              "          [0.54420954, 0.540288  , 0.5246017 ],\n",
              "          [0.5254902 , 0.52156866, 0.5058824 ],\n",
              "          [0.5254902 , 0.52156866, 0.5058824 ]],\n",
              " \n",
              "         [[0.38431373, 0.42352942, 0.14901961],\n",
              "          [0.38431373, 0.42352942, 0.14901961],\n",
              "          [0.38431373, 0.42352942, 0.14901961],\n",
              "          ...,\n",
              "          [0.5371324 , 0.5332108 , 0.5175245 ],\n",
              "          [0.518413  , 0.51449144, 0.49880514],\n",
              "          [0.518413  , 0.51449144, 0.49880514]],\n",
              " \n",
              "         ...,\n",
              " \n",
              "         [[0.35176164, 0.33607537, 0.29803923],\n",
              "          [0.35176164, 0.33607537, 0.29803923],\n",
              "          [0.34398815, 0.32830188, 0.29076916],\n",
              "          ...,\n",
              "          [0.63529414, 0.62352943, 0.6039216 ],\n",
              "          [0.63529414, 0.62352943, 0.6039216 ],\n",
              "          [0.63529414, 0.62352943, 0.6039216 ]],\n",
              " \n",
              "         [[0.3529412 , 0.3372549 , 0.29803923],\n",
              "          [0.3529412 , 0.3372549 , 0.29803923],\n",
              "          [0.34430146, 0.3286152 , 0.2901195 ],\n",
              "          ...,\n",
              "          [0.63529414, 0.62352943, 0.6039216 ],\n",
              "          [0.63529414, 0.62352943, 0.6039216 ],\n",
              "          [0.63529414, 0.62352943, 0.6039216 ]],\n",
              " \n",
              "         [[0.3529412 , 0.3372549 , 0.29803923],\n",
              "          [0.3529412 , 0.3372549 , 0.29803923],\n",
              "          [0.34430146, 0.3286152 , 0.2901195 ],\n",
              "          ...,\n",
              "          [0.63529414, 0.62352943, 0.6039216 ],\n",
              "          [0.63529414, 0.62352943, 0.6039216 ],\n",
              "          [0.63529414, 0.62352943, 0.6039216 ]]],\n",
              " \n",
              " \n",
              "        [[[0.49019608, 0.5058824 , 0.5294118 ],\n",
              "          [0.49019608, 0.5058824 , 0.5294118 ],\n",
              "          [0.49179688, 0.5073376 , 0.53086704],\n",
              "          ...,\n",
              "          [0.654902  , 0.6509804 , 0.6392157 ],\n",
              "          [0.654902  , 0.6509804 , 0.6392157 ],\n",
              "          [0.654902  , 0.6509804 , 0.6392157 ]],\n",
              " \n",
              "         [[0.49019608, 0.5058824 , 0.5294118 ],\n",
              "          [0.49019608, 0.5058824 , 0.5294118 ],\n",
              "          [0.491773  , 0.5073178 , 0.5308472 ],\n",
              "          ...,\n",
              "          [0.654902  , 0.6509804 , 0.6392157 ],\n",
              "          [0.654902  , 0.6509804 , 0.6392157 ],\n",
              "          [0.654902  , 0.6509804 , 0.6392157 ]],\n",
              " \n",
              "         [[0.49019608, 0.5058824 , 0.5294118 ],\n",
              "          [0.49019608, 0.5058824 , 0.5294118 ],\n",
              "          [0.49146602, 0.5070619 , 0.5305913 ],\n",
              "          ...,\n",
              "          [0.654902  , 0.6509804 , 0.6392157 ],\n",
              "          [0.654902  , 0.6509804 , 0.6392157 ],\n",
              "          [0.654902  , 0.6509804 , 0.6392157 ]],\n",
              " \n",
              "         ...,\n",
              " \n",
              "         [[0.4627451 , 0.47843137, 0.52156866],\n",
              "          [0.4627451 , 0.47843137, 0.52156866],\n",
              "          [0.4627451 , 0.47843137, 0.52156866],\n",
              "          ...,\n",
              "          [0.5221967 , 0.53013027, 0.51827514],\n",
              "          [0.52305454, 0.5308977 , 0.519133  ],\n",
              "          [0.52305454, 0.5308977 , 0.519133  ]],\n",
              " \n",
              "         [[0.4627451 , 0.47843137, 0.52156866],\n",
              "          [0.4627451 , 0.47843137, 0.52156866],\n",
              "          [0.4627451 , 0.47843137, 0.52156866],\n",
              "          ...,\n",
              "          [0.5210739 , 0.5290585 , 0.5171523 ],\n",
              "          [0.5216759 , 0.529519  , 0.5177543 ],\n",
              "          [0.5216759 , 0.529519  , 0.5177543 ]],\n",
              " \n",
              "         [[0.4627451 , 0.47843137, 0.52156866],\n",
              "          [0.4627451 , 0.47843137, 0.52156866],\n",
              "          [0.4627451 , 0.47843137, 0.52156866],\n",
              "          ...,\n",
              "          [0.5209865 , 0.5289752 , 0.5170649 ],\n",
              "          [0.52156866, 0.5294118 , 0.5176471 ],\n",
              "          [0.52156866, 0.5294118 , 0.5176471 ]]],\n",
              " \n",
              " \n",
              "        [[[0.14509805, 0.24705882, 0.05882353],\n",
              "          [0.14509805, 0.24705882, 0.05882353],\n",
              "          [0.14509805, 0.24705882, 0.05882353],\n",
              "          ...,\n",
              "          [0.14509805, 0.24705882, 0.05882353],\n",
              "          [0.14509805, 0.24705882, 0.05882353],\n",
              "          [0.14509805, 0.24705882, 0.05882353]],\n",
              " \n",
              "         [[0.14509805, 0.24705882, 0.05882353],\n",
              "          [0.14509805, 0.24705882, 0.05882353],\n",
              "          [0.14509805, 0.24705882, 0.05882353],\n",
              "          ...,\n",
              "          [0.14509805, 0.24705882, 0.05882353],\n",
              "          [0.14509805, 0.24705882, 0.05882353],\n",
              "          [0.14509805, 0.24705882, 0.05882353]],\n",
              " \n",
              "         [[0.14509805, 0.24705882, 0.05882353],\n",
              "          [0.14509805, 0.24705882, 0.05882353],\n",
              "          [0.14509805, 0.24705882, 0.05882353],\n",
              "          ...,\n",
              "          [0.14509805, 0.24705882, 0.05882353],\n",
              "          [0.14509805, 0.24705882, 0.05882353],\n",
              "          [0.14509805, 0.24705882, 0.05882353]],\n",
              " \n",
              "         ...,\n",
              " \n",
              "         [[0.2627451 , 0.28235295, 0.30980393],\n",
              "          [0.2627451 , 0.28235295, 0.30980393],\n",
              "          [0.2627451 , 0.28235295, 0.30980393],\n",
              "          ...,\n",
              "          [0.24780944, 0.2697371 , 0.29864335],\n",
              "          [0.24754901, 0.26936275, 0.29852942],\n",
              "          [0.24754901, 0.26936275, 0.29852942]],\n",
              " \n",
              "         [[0.2627451 , 0.28235295, 0.30980393],\n",
              "          [0.2627451 , 0.28235295, 0.30980393],\n",
              "          [0.2627451 , 0.28235295, 0.30980393],\n",
              "          ...,\n",
              "          [0.2507506 , 0.2740512 , 0.30148685],\n",
              "          [0.2504902 , 0.2737745 , 0.30147058],\n",
              "          [0.2504902 , 0.2737745 , 0.30147058]],\n",
              " \n",
              "         [[0.2627451 , 0.28235295, 0.30980393],\n",
              "          [0.2627451 , 0.28235295, 0.30980393],\n",
              "          [0.2627451 , 0.28235295, 0.30980393],\n",
              "          ...,\n",
              "          [0.25124082, 0.27477023, 0.3019608 ],\n",
              "          [0.2509804 , 0.27450982, 0.3019608 ],\n",
              "          [0.2509804 , 0.27450982, 0.3019608 ]]],\n",
              " \n",
              " \n",
              "        ...,\n",
              " \n",
              " \n",
              "        [[[0.3764706 , 0.4117647 , 0.4627451 ],\n",
              "          [0.3757889 , 0.40971968, 0.46138173],\n",
              "          [0.37402728, 0.40443474, 0.45785844],\n",
              "          ...,\n",
              "          [0.5568628 , 0.6039216 , 0.6431373 ],\n",
              "          [0.5568628 , 0.6039216 , 0.6431373 ],\n",
              "          [0.5568628 , 0.6039216 , 0.6431373 ]],\n",
              " \n",
              "         [[0.3764706 , 0.4117647 , 0.4627451 ],\n",
              "          [0.3757889 , 0.40971968, 0.46138173],\n",
              "          [0.37402728, 0.40443474, 0.45785844],\n",
              "          ...,\n",
              "          [0.5568628 , 0.6039216 , 0.6431373 ],\n",
              "          [0.5568628 , 0.6039216 , 0.6431373 ],\n",
              "          [0.5568628 , 0.6039216 , 0.6431373 ]],\n",
              " \n",
              "         [[0.358318  , 0.39300704, 0.44398743],\n",
              "          [0.35774153, 0.39117238, 0.44283444],\n",
              "          [0.3562517 , 0.38643107, 0.4398548 ],\n",
              "          ...,\n",
              "          [0.5574678 , 0.6039216 , 0.6431373 ],\n",
              "          [0.5574678 , 0.6039216 , 0.6431373 ],\n",
              "          [0.5574678 , 0.6039216 , 0.6431373 ]],\n",
              " \n",
              "         ...,\n",
              " \n",
              "         [[0.35746783, 0.37375918, 0.3698376 ],\n",
              "          [0.35736263, 0.3742305 , 0.37030894],\n",
              "          [0.35709086, 0.37544852, 0.37152696],\n",
              "          ...,\n",
              "          [0.21902573, 0.12490809, 0.07392769],\n",
              "          [0.21902573, 0.12490809, 0.07392769],\n",
              "          [0.21902573, 0.12490809, 0.07392769]],\n",
              " \n",
              "         [[0.35686275, 0.37254903, 0.36862746],\n",
              "          [0.35686275, 0.3732307 , 0.36930913],\n",
              "          [0.35686275, 0.37499234, 0.37107077],\n",
              "          ...,\n",
              "          [0.21176471, 0.11764706, 0.06666667],\n",
              "          [0.21176471, 0.11764706, 0.06666667],\n",
              "          [0.21176471, 0.11764706, 0.06666667]],\n",
              " \n",
              "         [[0.35686275, 0.37254903, 0.36862746],\n",
              "          [0.35686275, 0.3732307 , 0.36930913],\n",
              "          [0.35686275, 0.37499234, 0.37107077],\n",
              "          ...,\n",
              "          [0.21176471, 0.11764706, 0.06666667],\n",
              "          [0.21176471, 0.11764706, 0.06666667],\n",
              "          [0.21176471, 0.11764706, 0.06666667]]],\n",
              " \n",
              " \n",
              "        [[[0.50980395, 0.5137255 , 0.5372549 ],\n",
              "          [0.50980395, 0.5137255 , 0.5372549 ],\n",
              "          [0.50980395, 0.5137255 , 0.5372549 ],\n",
              "          ...,\n",
              "          [0.49262407, 0.50046724, 0.5200751 ],\n",
              "          [0.49411765, 0.5019608 , 0.52156866],\n",
              "          [0.49411765, 0.5019608 , 0.52156866]],\n",
              " \n",
              "         [[0.50962776, 0.5135493 , 0.53707874],\n",
              "          [0.50962776, 0.5135493 , 0.53707874],\n",
              "          [0.50962776, 0.5135493 , 0.53707874],\n",
              "          ...,\n",
              "          [0.4928271 , 0.50081956, 0.5204408 ],\n",
              "          [0.4942938 , 0.50231314, 0.521921  ],\n",
              "          [0.4942938 , 0.50231314, 0.521921  ]],\n",
              " \n",
              "         [[0.50820315, 0.5121247 , 0.5356541 ],\n",
              "          [0.50820315, 0.5121247 , 0.5356541 ],\n",
              "          [0.50820315, 0.5121247 , 0.5356541 ],\n",
              "          ...,\n",
              "          [0.49446875, 0.5036688 , 0.5233986 ],\n",
              "          [0.49571845, 0.50516236, 0.5247702 ],\n",
              "          [0.49571845, 0.50516236, 0.5247702 ]],\n",
              " \n",
              "         ...,\n",
              " \n",
              "         [[0.48363206, 0.5094822 , 0.53069085],\n",
              "          [0.48363206, 0.5094822 , 0.53069085],\n",
              "          [0.48458302, 0.5104332 , 0.53164184],\n",
              "          ...,\n",
              "          [0.5322469 , 0.56361943, 0.5006976 ],\n",
              "          [0.5318934 , 0.5632659 , 0.5005208 ],\n",
              "          [0.5318934 , 0.5632659 , 0.5005208 ]],\n",
              " \n",
              "         [[0.49645373, 0.52372855, 0.5435126 ],\n",
              "          [0.49645373, 0.52372855, 0.5435126 ],\n",
              "          [0.49762174, 0.5248966 , 0.5446806 ],\n",
              "          ...,\n",
              "          [0.52676547, 0.558138  , 0.49510762],\n",
              "          [0.5261949 , 0.5575674 , 0.4948223 ],\n",
              "          [0.5261949 , 0.5575674 , 0.4948223 ]],\n",
              " \n",
              "         [[0.49803922, 0.5254902 , 0.54509807],\n",
              "          [0.49803922, 0.5254902 , 0.54509807],\n",
              "          [0.49923408, 0.52668506, 0.5462929 ],\n",
              "          ...,\n",
              "          [0.52608764, 0.5574602 , 0.49441636],\n",
              "          [0.5254902 , 0.5568628 , 0.49411765],\n",
              "          [0.5254902 , 0.5568628 , 0.49411765]]],\n",
              " \n",
              " \n",
              "        [[[0.43529412, 0.41568628, 0.4       ],\n",
              "          [0.44582567, 0.42621782, 0.41053155],\n",
              "          [0.4672258 , 0.44761795, 0.43193167],\n",
              "          ...,\n",
              "          [0.59607846, 0.58431375, 0.5647059 ],\n",
              "          [0.59607846, 0.58431375, 0.5647059 ],\n",
              "          [0.59607846, 0.58431375, 0.5647059 ]],\n",
              " \n",
              "         [[0.43529412, 0.41568628, 0.4       ],\n",
              "          [0.4454255 , 0.42581767, 0.4101314 ],\n",
              "          [0.46601248, 0.44640464, 0.43071836],\n",
              "          ...,\n",
              "          [0.59607846, 0.58431375, 0.5647059 ],\n",
              "          [0.59607846, 0.58431375, 0.5647059 ],\n",
              "          [0.59607846, 0.58431375, 0.5647059 ]],\n",
              " \n",
              "         [[0.43529412, 0.41568628, 0.4       ],\n",
              "          [0.44452044, 0.4249126 , 0.40922633],\n",
              "          [0.46326837, 0.4436605 , 0.42797422],\n",
              "          ...,\n",
              "          [0.59607846, 0.58431375, 0.5647059 ],\n",
              "          [0.59607846, 0.58431375, 0.5647059 ],\n",
              "          [0.59607846, 0.58431375, 0.5647059 ]],\n",
              " \n",
              "         ...,\n",
              " \n",
              "         [[0.16862746, 0.13333334, 0.09803922],\n",
              "          [0.16862746, 0.13333334, 0.09803922],\n",
              "          [0.16862746, 0.13333334, 0.09803922],\n",
              "          ...,\n",
              "          [0.28235295, 0.21176471, 0.17254902],\n",
              "          [0.28235295, 0.21176471, 0.17254902],\n",
              "          [0.28235295, 0.21176471, 0.17254902]],\n",
              " \n",
              "         [[0.16862746, 0.13333334, 0.09803922],\n",
              "          [0.16862746, 0.13333334, 0.09803922],\n",
              "          [0.16862746, 0.13333334, 0.09803922],\n",
              "          ...,\n",
              "          [0.28235295, 0.21176471, 0.17254902],\n",
              "          [0.28235295, 0.21176471, 0.17254902],\n",
              "          [0.28235295, 0.21176471, 0.17254902]],\n",
              " \n",
              "         [[0.16862746, 0.13333334, 0.09803922],\n",
              "          [0.16862746, 0.13333334, 0.09803922],\n",
              "          [0.16862746, 0.13333334, 0.09803922],\n",
              "          ...,\n",
              "          [0.28235295, 0.21176471, 0.17254902],\n",
              "          [0.28235295, 0.21176471, 0.17254902],\n",
              "          [0.28235295, 0.21176471, 0.17254902]]]], dtype=float32),\n",
              " array([1, 0, 0, 0, 1, 1, 1, 0, 1, 1, 1, 0, 1, 1, 0, 1, 1, 1, 0, 1, 1, 1,\n",
              "        0, 0, 1, 0, 1, 1, 0, 1, 0, 1], dtype=int32))"
            ]
          },
          "metadata": {},
          "execution_count": 3
        }
      ]
    },
    {
      "cell_type": "code",
      "source": [
        "train_size = int(len(data)*.7)\n",
        "val_size = int(len(data)*.2)\n",
        "test_size = int(len(data)*.1)\n",
        "\n",
        "train = data.take(train_size)\n",
        "val = data.skip(train_size).take(val_size)\n",
        "test = data.skip(train_size+val_size).take(test_size)"
      ],
      "metadata": {
        "id": "B2Jw8bzHvG_K"
      },
      "execution_count": null,
      "outputs": []
    },
    {
      "cell_type": "markdown",
      "source": [
        "**Uczenie modelu**"
      ],
      "metadata": {
        "id": "Sj6XjsKJ_zEN"
      }
    },
    {
      "cell_type": "code",
      "source": [
        "\n",
        "model = Sequential()\n",
        "\n",
        "model.add(Conv2D(16, (3,3), 1, activation='relu', input_shape=(256,256,3)))\n",
        "model.add(MaxPooling2D())\n",
        "model.add(Conv2D(32, (3,3), 1, activation='relu'))\n",
        "model.add(MaxPooling2D())\n",
        "model.add(Conv2D(16, (3,3), 1, activation='relu'))\n",
        "model.add(MaxPooling2D())\n",
        "model.add(Flatten())\n",
        "model.add(Dense(256, activation='relu'))\n",
        "model.add(Dense(1, activation='sigmoid'))"
      ],
      "metadata": {
        "id": "NMil2Hxu8qBz"
      },
      "execution_count": null,
      "outputs": []
    },
    {
      "cell_type": "code",
      "source": [
        "model.compile('adam', loss=tf.losses.BinaryCrossentropy(), metrics=['accuracy'])\n",
        "model.summary()"
      ],
      "metadata": {
        "id": "K2sF-QS19WIY",
        "colab": {
          "base_uri": "https://localhost:8080/"
        },
        "outputId": "b668cb81-2661-4411-efad-e5123ac6bbd8"
      },
      "execution_count": null,
      "outputs": [
        {
          "output_type": "stream",
          "name": "stdout",
          "text": [
            "Model: \"sequential\"\n",
            "_________________________________________________________________\n",
            " Layer (type)                Output Shape              Param #   \n",
            "=================================================================\n",
            " conv2d (Conv2D)             (None, 254, 254, 16)      448       \n",
            "                                                                 \n",
            " max_pooling2d (MaxPooling2D  (None, 127, 127, 16)     0         \n",
            " )                                                               \n",
            "                                                                 \n",
            " conv2d_1 (Conv2D)           (None, 125, 125, 32)      4640      \n",
            "                                                                 \n",
            " max_pooling2d_1 (MaxPooling  (None, 62, 62, 32)       0         \n",
            " 2D)                                                             \n",
            "                                                                 \n",
            " conv2d_2 (Conv2D)           (None, 60, 60, 16)        4624      \n",
            "                                                                 \n",
            " max_pooling2d_2 (MaxPooling  (None, 30, 30, 16)       0         \n",
            " 2D)                                                             \n",
            "                                                                 \n",
            " flatten (Flatten)           (None, 14400)             0         \n",
            "                                                                 \n",
            " dense (Dense)               (None, 256)               3686656   \n",
            "                                                                 \n",
            " dense_1 (Dense)             (None, 1)                 257       \n",
            "                                                                 \n",
            "=================================================================\n",
            "Total params: 3,696,625\n",
            "Trainable params: 3,696,625\n",
            "Non-trainable params: 0\n",
            "_________________________________________________________________\n"
          ]
        }
      ]
    },
    {
      "cell_type": "markdown",
      "source": [
        "**Trenowanie**"
      ],
      "metadata": {
        "id": "Cvhwht2a_-Is"
      }
    },
    {
      "cell_type": "code",
      "source": [
        "logdir='logs'\n",
        "tensorboard_callback = tf.keras.callbacks.TensorBoard(log_dir=logdir)\n",
        "hist = model.fit(train, epochs=20, validation_data=val, callbacks=[tensorboard_callback])"
      ],
      "metadata": {
        "id": "bUnMQ9s79gx5",
        "colab": {
          "base_uri": "https://localhost:8080/"
        },
        "outputId": "495cacc0-3abf-4820-bd37-331b3fbff3e1"
      },
      "execution_count": null,
      "outputs": [
        {
          "output_type": "stream",
          "name": "stdout",
          "text": [
            "Epoch 1/20\n",
            "7/7 [==============================] - 16s 2s/step - loss: 0.9368 - accuracy: 0.5402 - val_loss: 0.6875 - val_accuracy: 0.5625\n",
            "Epoch 2/20\n",
            "7/7 [==============================] - 14s 2s/step - loss: 0.6892 - accuracy: 0.6027 - val_loss: 0.6790 - val_accuracy: 0.7500\n",
            "Epoch 3/20\n",
            "7/7 [==============================] - 14s 2s/step - loss: 0.6713 - accuracy: 0.7098 - val_loss: 0.6654 - val_accuracy: 0.6250\n",
            "Epoch 4/20\n",
            "7/7 [==============================] - 14s 2s/step - loss: 0.6569 - accuracy: 0.6518 - val_loss: 0.6286 - val_accuracy: 0.8438\n",
            "Epoch 5/20\n",
            "7/7 [==============================] - 14s 2s/step - loss: 0.5834 - accuracy: 0.7812 - val_loss: 0.5371 - val_accuracy: 0.7031\n",
            "Epoch 6/20\n",
            "7/7 [==============================] - 14s 2s/step - loss: 0.4878 - accuracy: 0.7634 - val_loss: 0.4879 - val_accuracy: 0.7500\n",
            "Epoch 7/20\n",
            "7/7 [==============================] - 14s 2s/step - loss: 0.3833 - accuracy: 0.8482 - val_loss: 0.2584 - val_accuracy: 0.9219\n",
            "Epoch 8/20\n",
            "7/7 [==============================] - 15s 2s/step - loss: 0.4301 - accuracy: 0.7991 - val_loss: 0.3233 - val_accuracy: 0.8281\n",
            "Epoch 9/20\n",
            "7/7 [==============================] - 14s 2s/step - loss: 0.3687 - accuracy: 0.8482 - val_loss: 0.2675 - val_accuracy: 0.9688\n",
            "Epoch 10/20\n",
            "7/7 [==============================] - 15s 2s/step - loss: 0.3317 - accuracy: 0.9107 - val_loss: 0.2828 - val_accuracy: 0.9062\n",
            "Epoch 11/20\n",
            "7/7 [==============================] - 15s 2s/step - loss: 0.2311 - accuracy: 0.9420 - val_loss: 0.1856 - val_accuracy: 0.9531\n",
            "Epoch 12/20\n",
            "7/7 [==============================] - 14s 2s/step - loss: 0.1807 - accuracy: 0.9196 - val_loss: 0.1358 - val_accuracy: 0.9375\n",
            "Epoch 13/20\n",
            "7/7 [==============================] - 15s 2s/step - loss: 0.1470 - accuracy: 0.9464 - val_loss: 0.0817 - val_accuracy: 1.0000\n",
            "Epoch 14/20\n",
            "7/7 [==============================] - 14s 2s/step - loss: 0.1147 - accuracy: 0.9688 - val_loss: 0.0694 - val_accuracy: 0.9844\n",
            "Epoch 15/20\n",
            "7/7 [==============================] - 15s 2s/step - loss: 0.1013 - accuracy: 0.9732 - val_loss: 0.0882 - val_accuracy: 0.9531\n",
            "Epoch 16/20\n",
            "7/7 [==============================] - 15s 2s/step - loss: 0.0670 - accuracy: 0.9821 - val_loss: 0.0286 - val_accuracy: 0.9844\n",
            "Epoch 17/20\n",
            "7/7 [==============================] - 14s 2s/step - loss: 0.0370 - accuracy: 0.9955 - val_loss: 0.0366 - val_accuracy: 1.0000\n",
            "Epoch 18/20\n",
            "7/7 [==============================] - 15s 2s/step - loss: 0.0228 - accuracy: 0.9955 - val_loss: 0.0143 - val_accuracy: 1.0000\n",
            "Epoch 19/20\n",
            "7/7 [==============================] - 15s 2s/step - loss: 0.0179 - accuracy: 1.0000 - val_loss: 0.0270 - val_accuracy: 1.0000\n",
            "Epoch 20/20\n",
            "7/7 [==============================] - 14s 2s/step - loss: 0.0100 - accuracy: 1.0000 - val_loss: 0.0086 - val_accuracy: 1.0000\n"
          ]
        }
      ]
    },
    {
      "cell_type": "markdown",
      "source": [
        "**Wykresy**"
      ],
      "metadata": {
        "id": "QIM6PKtAAEdM"
      }
    },
    {
      "cell_type": "code",
      "source": [
        "fig = plt.figure()\n",
        "plt.plot(hist.history['loss'], color='teal', label='loss')\n",
        "plt.plot(hist.history['val_loss'], color='orange', label='val_loss')\n",
        "fig.suptitle('Loss', fontsize=20)\n",
        "plt.legend(loc=\"upper left\")\n",
        "plt.show()\n",
        "\n",
        "fig = plt.figure()\n",
        "plt.plot(hist.history['accuracy'], color='teal', label='accuracy')\n",
        "plt.plot(hist.history['val_accuracy'], color='orange', label='val_accuracy')\n",
        "fig.suptitle('Accuracy', fontsize=20)\n",
        "plt.legend(loc=\"upper left\")\n",
        "plt.show()"
      ],
      "metadata": {
        "id": "7rFjMHFP9g0E",
        "colab": {
          "base_uri": "https://localhost:8080/",
          "height": 571
        },
        "outputId": "5380d5b1-a20f-4bb7-f9f6-3432f7a6881b"
      },
      "execution_count": null,
      "outputs": [
        {
          "output_type": "display_data",
          "data": {
            "text/plain": [
              "<Figure size 432x288 with 1 Axes>"
            ],
            "image/png": "[encoded data removed]"
          },
          "metadata": {
            "needs_background": "light"
          }
        },
        {
          "output_type": "display_data",
          "data": {
            "text/plain": [
              "<Figure size 432x288 with 1 Axes>"
            ],
            "image/png": "[encoded data removed]"
          },
          "metadata": {
            "needs_background": "light"
          }
        }
      ]
    },
    {
      "cell_type": "markdown",
      "source": [
        "**Test**"
      ],
      "metadata": {
        "id": "HO2d6ivU_WRV"
      }
    },
    {
      "cell_type": "code",
      "source": [
        "\n",
        "img1 = cv2.imread('/content/gdrive/MyDrive/dat/smietniki/smietnik1.jpg')\n",
        "resize = tf.image.resize(img1, (256,256))\n",
        "plt.imshow(resize.numpy().astype(int))\n",
        "plt.show()"
      ],
      "metadata": {
        "id": "L5B0Of0L_BSB",
        "colab": {
          "base_uri": "https://localhost:8080/",
          "height": 269
        },
        "outputId": "f81bb74a-02b2-4551-f5f2-699b42971e61"
      },
      "execution_count": null,
      "outputs": [
        {
          "output_type": "display_data",
          "data": {
            "text/plain": [
              "<Figure size 432x288 with 1 Axes>"
            ],
            "image/png": "[encoded data removed]"
          },
          "metadata": {
            "needs_background": "light"
          }
        }
      ]
    },
    {
      "cell_type": "code",
      "source": [
        "yhat = model.predict(np.expand_dims(resize/255, 0))\n",
        "yhat\n",
        "if yhat > 0.5: \n",
        "    print(f'Predicted class is Smietnik')\n",
        "else:\n",
        "    print(f'Predicted class is Lawka')"
      ],
      "metadata": {
        "id": "bY19tUiu_HLI",
        "colab": {
          "base_uri": "https://localhost:8080/"
        },
        "outputId": "85a4e4db-912a-4099-d311-900489e36164"
      },
      "execution_count": null,
      "outputs": [
        {
          "output_type": "stream",
          "name": "stdout",
          "text": [
            "1/1 [==============================] - 0s 152ms/step\n",
            "Predicted class is Smietnik\n"
          ]
        }
      ]
    },
    {
      "cell_type": "markdown",
      "source": [
        "macierz pomyłek, dane walidacyjne z neta, sprawdzić jakimś gotowcem jako punkt odniesienia. vgg16, restnet."
      ],
      "metadata": {
        "id": "TF7hZepG25N7"
      }
    }
  ]
}