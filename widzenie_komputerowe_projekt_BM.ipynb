{
  "cells": [
    {
      "cell_type": "code",
      "execution_count": 16,
      "metadata": {
        "colab": {
          "base_uri": "https://localhost:8080/"
        },
        "id": "er5a-1x24gog",
        "outputId": "b7b971d4-9347-41e2-a6e9-b4abf32ef8ca"
      },
      "outputs": [
        {
          "output_type": "stream",
          "name": "stdout",
          "text": [
            "Drive already mounted at /content/gdrive; to attempt to forcibly remount, call drive.mount(\"/content/gdrive\", force_remount=True).\n"
          ]
        }
      ],
      "source": [
        "import urllib.request\n",
        "import os\n",
        "import cv2\n",
        "import numpy as np\n",
        "import matplotlib.pyplot as plt\n",
        "import tensorflow as tf\n",
        "from google.colab import drive\n",
        "from tensorflow.keras.models import Sequential\n",
        "from tensorflow.keras.layers import Conv2D, MaxPooling2D, Dense, Flatten, Dropout\n",
        "from tensorflow.keras.models import load_model\n",
        "from tensorflow.keras.metrics import Precision, Recall, BinaryAccuracy\n",
        "from tensorflow.keras.preprocessing.image import load_img, img_to_array, ImageDataGenerator\n",
        "from sklearn.metrics import confusion_matrix, ConfusionMatrixDisplay\n",
        "from tensorflow.keras.preprocessing import image \n",
        "from sklearn.model_selection import train_test_split\n",
        "drive.mount('/content/gdrive')\n",
        "\n",
        "gpus = tf.config.experimental.list_physical_devices('GPU')\n",
        "for gpu in gpus: \n",
        "    tf.config.experimental.set_memory_growth(gpu, True)"
      ]
    },
    {
      "cell_type": "markdown",
      "metadata": {
        "id": "aUsioSJOvJBH"
      },
      "source": [
        "**Przygotowanie danych**"
      ]
    },
    {
      "cell_type": "code",
      "execution_count": 17,
      "metadata": {
        "colab": {
          "base_uri": "https://localhost:8080/"
        },
        "id": "4JAVP-6Lvmxo",
        "outputId": "4fb54373-3413-424d-cf8b-2f2433dedbfc"
      },
      "outputs": [
        {
          "output_type": "stream",
          "name": "stdout",
          "text": [
            "Found 790 files belonging to 2 classes.\n"
          ]
        }
      ],
      "source": [
        "data1 = tf.keras.utils.image_dataset_from_directory('/content/gdrive/MyDrive/data_widzenie')\n",
        "\n",
        "\n",
        "def wyswietl(obraz):\n",
        "  plt.imshow(obraz, cmap='gray')\n",
        "  plt.axis('off')\n",
        "  plt.show()\n",
        "\n",
        "# data_iterator = data.as_numpy_iterator()\n",
        "# batch = data_iterator.next()\n",
        "# fig, ax = plt.subplots(ncols=4, figsize=(20,20))\n",
        "# for idx, img in enumerate(batch[0][:4]):\n",
        "#     ax[idx].imshow(img.astype(int))\n",
        "#     ax[idx].title.set_text(batch[1][idx])"
      ]
    },
    {
      "cell_type": "code",
      "execution_count": null,
      "metadata": {
        "id": "nRSLC465naEj"
      },
      "outputs": [],
      "source": [
        "\n",
        "for i in range (1, 21):\n",
        "  image = img_to_array(load_img('/content/gdrive/MyDrive/dat/lawki/lawka' + str(i) + '.jpg'))\n",
        "  image_ = np.expand_dims(image, axis=0)\n",
        "  imgen = ImageDataGenerator(\n",
        "    height_shift_range=0.2,\n",
        "    zoom_range=[0.5,2],\n",
        "    shear_range=50,\n",
        "    vertical_flip=True\n",
        "    )\n",
        "  img_train = imgen.flow(image_, batch_size=1, save_to_dir='/content/gdrive/MyDrive/data_widzenie/lawki_wyg')\n",
        "\n",
        "\n",
        "\n",
        "for i in range (1, 11):\n",
        "  image = img_to_array(load_img('/content/gdrive/MyDrive/dat/smietniki/smietnik' + str(i) + '.jpg'))\n",
        "  image_ = np.expand_dims(image, axis=0)\n",
        "  imgen = ImageDataGenerator(\n",
        "    height_shift_range=0.2,\n",
        "    zoom_range=[0.5,2],\n",
        "    shear_range=50,\n",
        "    vertical_flip=True\n",
        "    )\n",
        "  img_train = imgen.flow(image_, batch_size=1, save_to_dir='/content/gdrive/MyDrive/data_widzenie/smietniki_wyg')"
      ]
    },
    {
      "cell_type": "code",
      "execution_count": 18,
      "metadata": {
        "colab": {
          "base_uri": "https://localhost:8080/"
        },
        "id": "0-q1yLd2vGlW",
        "outputId": "f3e95fe0-ed36-4ed7-a0c3-9304b1aaa05b"
      },
      "outputs": [
        {
          "output_type": "execute_result",
          "data": {
            "text/plain": [
              "(array([[[[0.23921569, 0.25490198, 0.2901961 ],\n",
              "          [0.23921569, 0.25490198, 0.2901961 ],\n",
              "          [0.23753063, 0.2528799 , 0.28682598],\n",
              "          ...,\n",
              "          [0.2901961 , 0.34117648, 0.21960784],\n",
              "          [0.2901961 , 0.34117648, 0.21960784],\n",
              "          [0.2901961 , 0.34117648, 0.21960784]],\n",
              " \n",
              "         [[0.23926164, 0.25496325, 0.29025736],\n",
              "          [0.23926164, 0.25496325, 0.29025736],\n",
              "          [0.23758054, 0.25294513, 0.28689384],\n",
              "          ...,\n",
              "          [0.29024205, 0.34122244, 0.2196538 ],\n",
              "          [0.29024205, 0.34122244, 0.2196538 ],\n",
              "          [0.29024205, 0.34122244, 0.2196538 ]],\n",
              " \n",
              "         [[0.24321385, 0.26023284, 0.29552695],\n",
              "          [0.24321385, 0.26023284, 0.29552695],\n",
              "          [0.24187239, 0.25855437, 0.29272953],\n",
              "          ...,\n",
              "          [0.29419425, 0.34517464, 0.223606  ],\n",
              "          [0.29419425, 0.34517464, 0.223606  ],\n",
              "          [0.29419425, 0.34517464, 0.223606  ]],\n",
              " \n",
              "         ...,\n",
              " \n",
              "         [[0.31897977, 0.3268229 , 0.37913603],\n",
              "          [0.31897977, 0.3268229 , 0.37913603],\n",
              "          [0.31897977, 0.3268229 , 0.37913603],\n",
              "          ...,\n",
              "          [0.05260416, 0.10214389, 0.0736972 ],\n",
              "          [0.05631128, 0.10595895, 0.07717524],\n",
              "          [0.05631128, 0.10595895, 0.07717524]],\n",
              " \n",
              "         [[0.3176624 , 0.32550552, 0.37650123],\n",
              "          [0.3176624 , 0.32550552, 0.37650123],\n",
              "          [0.3176624 , 0.32550552, 0.37650123],\n",
              "          ...,\n",
              "          [0.04733456, 0.09796526, 0.07083596],\n",
              "          [0.05104167, 0.10200674, 0.07454044],\n",
              "          [0.05104167, 0.10200674, 0.07454044]],\n",
              " \n",
              "         [[0.31764707, 0.3254902 , 0.3764706 ],\n",
              "          [0.31764707, 0.3254902 , 0.3764706 ],\n",
              "          [0.31764707, 0.3254902 , 0.3764706 ],\n",
              "          ...,\n",
              "          [0.04727329, 0.09791667, 0.0708027 ],\n",
              "          [0.05098039, 0.10196079, 0.07450981],\n",
              "          [0.05098039, 0.10196079, 0.07450981]]],\n",
              " \n",
              " \n",
              "        [[[0.56078434, 0.5254902 , 0.5294118 ],\n",
              "          [0.56078434, 0.5254902 , 0.5294118 ],\n",
              "          [0.56078434, 0.5254902 , 0.5294118 ],\n",
              "          ...,\n",
              "          [0.35750613, 0.33170956, 0.23030025],\n",
              "          [0.40202206, 0.36280638, 0.25692403],\n",
              "          [0.40784314, 0.36862746, 0.2627451 ]],\n",
              " \n",
              "         [[0.56078434, 0.5254902 , 0.5294118 ],\n",
              "          [0.56078434, 0.5254902 , 0.5294118 ],\n",
              "          [0.56078434, 0.5254902 , 0.5294118 ],\n",
              "          ...,\n",
              "          [0.35915294, 0.33335638, 0.23194706],\n",
              "          [0.40202206, 0.36280638, 0.25692403],\n",
              "          [0.40784314, 0.36862746, 0.2627451 ]],\n",
              " \n",
              "         [[0.56078434, 0.5254902 , 0.5294118 ],\n",
              "          [0.56078434, 0.5254902 , 0.5294118 ],\n",
              "          [0.56078434, 0.5254902 , 0.5294118 ],\n",
              "          ...,\n",
              "          [0.35974264, 0.33394608, 0.23253676],\n",
              "          [0.40202206, 0.36280638, 0.25692403],\n",
              "          [0.40784314, 0.36862746, 0.2627451 ]],\n",
              " \n",
              "         ...,\n",
              " \n",
              "         [[0.62352943, 0.5882353 , 0.5921569 ],\n",
              "          [0.62352943, 0.5882353 , 0.5921569 ],\n",
              "          [0.62352943, 0.5882353 , 0.5921569 ],\n",
              "          ...,\n",
              "          [0.63529414, 0.60784316, 0.5686275 ],\n",
              "          [0.63529414, 0.60784316, 0.5686275 ],\n",
              "          [0.63529414, 0.60784316, 0.5686275 ]],\n",
              " \n",
              "         [[0.62352943, 0.5882353 , 0.5921569 ],\n",
              "          [0.62352943, 0.5882353 , 0.5921569 ],\n",
              "          [0.62352943, 0.5882353 , 0.5921569 ],\n",
              "          ...,\n",
              "          [0.63529414, 0.60784316, 0.5686275 ],\n",
              "          [0.63529414, 0.60784316, 0.5686275 ],\n",
              "          [0.63529414, 0.60784316, 0.5686275 ]],\n",
              " \n",
              "         [[0.62352943, 0.5882353 , 0.5921569 ],\n",
              "          [0.62352943, 0.5882353 , 0.5921569 ],\n",
              "          [0.62352943, 0.5882353 , 0.5921569 ],\n",
              "          ...,\n",
              "          [0.63529414, 0.60784316, 0.5686275 ],\n",
              "          [0.63529414, 0.60784316, 0.5686275 ],\n",
              "          [0.63529414, 0.60784316, 0.5686275 ]]],\n",
              " \n",
              " \n",
              "        [[[0.68235296, 0.68235296, 0.68235296],\n",
              "          [0.68235296, 0.68235296, 0.68235296],\n",
              "          [0.68235296, 0.68235296, 0.68235296],\n",
              "          ...,\n",
              "          [0.18431373, 0.14117648, 0.10196079],\n",
              "          [0.18431373, 0.14117648, 0.10196079],\n",
              "          [0.18431373, 0.14117648, 0.10196079]],\n",
              " \n",
              "         [[0.6754825 , 0.6754825 , 0.6754825 ],\n",
              "          [0.6754825 , 0.6754825 , 0.6754825 ],\n",
              "          [0.6754825 , 0.6754825 , 0.6754825 ],\n",
              "          ...,\n",
              "          [0.18202358, 0.14117648, 0.09738051],\n",
              "          [0.18202358, 0.14117648, 0.09738051],\n",
              "          [0.18202358, 0.14117648, 0.09738051]],\n",
              " \n",
              "         [[0.6669807 , 0.6669807 , 0.6669807 ],\n",
              "          [0.6669807 , 0.6669807 , 0.6669807 ],\n",
              "          [0.6669807 , 0.6669807 , 0.6669807 ],\n",
              "          ...,\n",
              "          [0.17798713, 0.14117648, 0.09411765],\n",
              "          [0.17798713, 0.14117648, 0.09411765],\n",
              "          [0.17798713, 0.14117648, 0.09411765]],\n",
              " \n",
              "         ...,\n",
              " \n",
              "         [[0.6461703 , 0.655216  , 0.6500919 ],\n",
              "          [0.6461703 , 0.655216  , 0.6500919 ],\n",
              "          [0.6461703 , 0.655216  , 0.6500919 ],\n",
              "          ...,\n",
              "          [0.21104239, 0.21104239, 0.24858835],\n",
              "          [0.2221861 , 0.2221861 , 0.258047  ],\n",
              "          [0.22593443, 0.22593443, 0.26122856]],\n",
              " \n",
              "         [[0.65424323, 0.66208637, 0.6581648 ],\n",
              "          [0.65424323, 0.66208637, 0.6581648 ],\n",
              "          [0.65424323, 0.66208637, 0.6581648 ],\n",
              "          ...,\n",
              "          [0.20793448, 0.20793448, 0.24641724],\n",
              "          [0.21594176, 0.21594176, 0.25203845],\n",
              "          [0.21863511, 0.21863511, 0.25392923]],\n",
              " \n",
              "         [[0.65882355, 0.6666667 , 0.6627451 ],\n",
              "          [0.65882355, 0.6666667 , 0.6627451 ],\n",
              "          [0.65882355, 0.6666667 , 0.6627451 ],\n",
              "          ...,\n",
              "          [0.20500919, 0.20500919, 0.24480699],\n",
              "          [0.21006434, 0.21006434, 0.24649203],\n",
              "          [0.21176471, 0.21176471, 0.24705882]]],\n",
              " \n",
              " \n",
              "        ...,\n",
              " \n",
              " \n",
              "        [[[0.58431375, 0.58431375, 0.5921569 ],\n",
              "          [0.58431375, 0.58431375, 0.5921569 ],\n",
              "          [0.58431375, 0.58431375, 0.5921569 ],\n",
              "          ...,\n",
              "          [0.13333334, 0.19215687, 0.09411765],\n",
              "          [0.13333334, 0.19215687, 0.09411765],\n",
              "          [0.13333334, 0.19215687, 0.09411765]],\n",
              " \n",
              "         [[0.5832414 , 0.5832414 , 0.5912377 ],\n",
              "          [0.5832414 , 0.5832414 , 0.5912377 ],\n",
              "          [0.5832414 , 0.5832414 , 0.5912377 ],\n",
              "          ...,\n",
              "          [0.13333334, 0.19215687, 0.09411765],\n",
              "          [0.13333334, 0.19215687, 0.09411765],\n",
              "          [0.13333334, 0.19215687, 0.09411765]],\n",
              " \n",
              "         [[0.57337624, 0.57337624, 0.58278185],\n",
              "          [0.57337624, 0.57337624, 0.58278185],\n",
              "          [0.57337624, 0.57337624, 0.58278185],\n",
              "          ...,\n",
              "          [0.13333334, 0.19215687, 0.09411765],\n",
              "          [0.13333334, 0.19215687, 0.09411765],\n",
              "          [0.13333334, 0.19215687, 0.09411765]],\n",
              " \n",
              "         ...,\n",
              " \n",
              "         [[0.5372549 , 0.5372549 , 0.54509807],\n",
              "          [0.5372549 , 0.5372549 , 0.54509807],\n",
              "          [0.5372549 , 0.5372549 , 0.54509807],\n",
              "          ...,\n",
              "          [0.42745098, 0.44313726, 0.39215687],\n",
              "          [0.42745098, 0.44313726, 0.39215687],\n",
              "          [0.42745098, 0.44313726, 0.39215687]],\n",
              " \n",
              "         [[0.5372549 , 0.5372549 , 0.54509807],\n",
              "          [0.5372549 , 0.5372549 , 0.54509807],\n",
              "          [0.5372549 , 0.5372549 , 0.54509807],\n",
              "          ...,\n",
              "          [0.42745098, 0.44313726, 0.39215687],\n",
              "          [0.42745098, 0.44313726, 0.39215687],\n",
              "          [0.42745098, 0.44313726, 0.39215687]],\n",
              " \n",
              "         [[0.5372549 , 0.5372549 , 0.54509807],\n",
              "          [0.5372549 , 0.5372549 , 0.54509807],\n",
              "          [0.5372549 , 0.5372549 , 0.54509807],\n",
              "          ...,\n",
              "          [0.42745098, 0.44313726, 0.39215687],\n",
              "          [0.42745098, 0.44313726, 0.39215687],\n",
              "          [0.42745098, 0.44313726, 0.39215687]]],\n",
              " \n",
              " \n",
              "        [[[0.5568628 , 0.5529412 , 0.54509807],\n",
              "          [0.5568628 , 0.5529412 , 0.54509807],\n",
              "          [0.5568628 , 0.5529412 , 0.54509807],\n",
              "          ...,\n",
              "          [0.31267616, 0.20653339, 0.17306985],\n",
              "          [0.323292  , 0.21411611, 0.17913602],\n",
              "          [0.3254902 , 0.21568628, 0.18039216]],\n",
              " \n",
              "         [[0.5269914 , 0.52306986, 0.5152267 ],\n",
              "          [0.5269914 , 0.52306986, 0.5152267 ],\n",
              "          [0.5269914 , 0.52306986, 0.5152267 ],\n",
              "          ...,\n",
              "          [0.32117084, 0.21502805, 0.18156451],\n",
              "          [0.33794758, 0.22877173, 0.19379164],\n",
              "          [0.34142157, 0.23161764, 0.19632353]],\n",
              " \n",
              "         [[0.50085783, 0.49693626, 0.48909312],\n",
              "          [0.50085783, 0.49693626, 0.48909312],\n",
              "          [0.50085783, 0.49693626, 0.48909312],\n",
              "          ...,\n",
              "          [0.32663226, 0.22011378, 0.18697916],\n",
              "          [0.34992543, 0.24010135, 0.2051777 ],\n",
              "          [0.3547488 , 0.2442402 , 0.20894608]],\n",
              " \n",
              "         ...,\n",
              " \n",
              "         [[0.47049633, 0.47049633, 0.47049633],\n",
              "          [0.47049633, 0.47049633, 0.47049633],\n",
              "          [0.47049633, 0.47049633, 0.47049633],\n",
              "          ...,\n",
              "          [0.18290567, 0.1949993 , 0.21460715],\n",
              "          [0.18523972, 0.19706085, 0.2166687 ],\n",
              "          [0.18572304, 0.19748774, 0.21709558]],\n",
              " \n",
              "         [[0.45116422, 0.45116422, 0.45116422],\n",
              "          [0.45116422, 0.45116422, 0.45116422],\n",
              "          [0.45116422, 0.45116422, 0.45116422],\n",
              "          ...,\n",
              "          [0.18261132, 0.19540519, 0.21501303],\n",
              "          [0.18562071, 0.19916101, 0.21876885],\n",
              "          [0.18624388, 0.19993873, 0.21954657]],\n",
              " \n",
              "         [[0.4392157 , 0.4392157 , 0.4392157 ],\n",
              "          [0.4392157 , 0.4392157 , 0.4392157 ],\n",
              "          [0.4392157 , 0.4392157 , 0.4392157 ],\n",
              "          ...,\n",
              "          [0.18274356, 0.19659926, 0.2162071 ],\n",
              "          [0.1872932 , 0.20266545, 0.22227329],\n",
              "          [0.1882353 , 0.20392157, 0.22352941]]],\n",
              " \n",
              " \n",
              "        [[[0.47058824, 0.49803922, 0.627451  ],\n",
              "          [0.47058824, 0.49803922, 0.627451  ],\n",
              "          [0.47058824, 0.49803922, 0.627451  ],\n",
              "          ...,\n",
              "          [0.4231924 , 0.46632966, 0.49803922],\n",
              "          [0.42352942, 0.46666667, 0.49803922],\n",
              "          [0.42352942, 0.46666667, 0.49803922]],\n",
              " \n",
              "         [[0.47058824, 0.49803922, 0.627451  ],\n",
              "          [0.47058824, 0.49803922, 0.627451  ],\n",
              "          [0.47058824, 0.49803922, 0.627451  ],\n",
              "          ...,\n",
              "          [0.42323837, 0.46638963, 0.49806854],\n",
              "          [0.42357537, 0.46672794, 0.49806985],\n",
              "          [0.42357537, 0.46672794, 0.49806985]],\n",
              " \n",
              "         [[0.47058824, 0.49803922, 0.627451  ],\n",
              "          [0.47058824, 0.49803922, 0.627451  ],\n",
              "          [0.47058824, 0.49803922, 0.627451  ],\n",
              "          ...,\n",
              "          [0.42719057, 0.471546  , 0.50059015],\n",
              "          [0.42752758, 0.47199756, 0.50070465],\n",
              "          [0.42752758, 0.47199756, 0.50070465]],\n",
              " \n",
              "         ...,\n",
              " \n",
              "         [[0.27192095, 0.33074448, 0.1882353 ],\n",
              "          [0.27192095, 0.33074448, 0.1882353 ],\n",
              "          [0.27180642, 0.33062994, 0.1882353 ],\n",
              "          ...,\n",
              "          [0.27058825, 0.32941177, 0.1882353 ],\n",
              "          [0.27058825, 0.32941177, 0.1882353 ],\n",
              "          [0.27058825, 0.32941177, 0.1882353 ]],\n",
              " \n",
              "         [[0.27060357, 0.3294271 , 0.1882353 ],\n",
              "          [0.27060357, 0.3294271 , 0.1882353 ],\n",
              "          [0.27060223, 0.32942575, 0.1882353 ],\n",
              "          ...,\n",
              "          [0.27058825, 0.32941177, 0.1882353 ],\n",
              "          [0.27058825, 0.32941177, 0.1882353 ],\n",
              "          [0.27058825, 0.32941177, 0.1882353 ]],\n",
              " \n",
              "         [[0.27058825, 0.32941177, 0.1882353 ],\n",
              "          [0.27058825, 0.32941177, 0.1882353 ],\n",
              "          [0.27058825, 0.32941177, 0.1882353 ],\n",
              "          ...,\n",
              "          [0.27058825, 0.32941177, 0.1882353 ],\n",
              "          [0.27058825, 0.32941177, 0.1882353 ],\n",
              "          [0.27058825, 0.32941177, 0.1882353 ]]]], dtype=float32),\n",
              " array([0, 1, 0, 0, 0, 0, 0, 1, 1, 1, 1, 1, 0, 0, 0, 1, 0, 1, 0, 1, 1, 0,\n",
              "        0, 0, 1, 1, 1, 0, 0, 0, 0, 0], dtype=int32))"
            ]
          },
          "metadata": {},
          "execution_count": 18
        }
      ],
      "source": [
        "data = data1.map(lambda x,y: (x/255, y))\n",
        "data.as_numpy_iterator().next()"
      ]
    },
    {
      "cell_type": "code",
      "execution_count": 19,
      "metadata": {
        "id": "B2Jw8bzHvG_K"
      },
      "outputs": [],
      "source": [
        "train_size = int(len(data)*.7)\n",
        "val_size = int(len(data)*.2)\n",
        "test_size = int(len(data)*.1)\n",
        "\n",
        "train = data.take(train_size)\n",
        "val = data.skip(train_size).take(val_size)\n",
        "test = data.skip(train_size+val_size).take(test_size)\n"
      ]
    },
    {
      "cell_type": "markdown",
      "metadata": {
        "id": "Sj6XjsKJ_zEN"
      },
      "source": [
        "**Uczenie modelu**"
      ]
    },
    {
      "cell_type": "code",
      "execution_count": 20,
      "metadata": {
        "id": "NMil2Hxu8qBz"
      },
      "outputs": [],
      "source": [
        "\n",
        "model = Sequential()\n",
        "\n",
        "model.add(Conv2D(16, (3,3), 1, activation='relu', input_shape=(256,256,3)))\n",
        "model.add(MaxPooling2D())\n",
        "model.add(Conv2D(32, (3,3), 1, activation='relu'))\n",
        "model.add(MaxPooling2D())\n",
        "model.add(Conv2D(16, (3,3), 1, activation='relu'))\n",
        "model.add(MaxPooling2D())\n",
        "model.add(Flatten())\n",
        "model.add(Dense(256, activation='relu'))\n",
        "model.add(Dense(1, activation='sigmoid'))"
      ]
    },
    {
      "cell_type": "code",
      "execution_count": 21,
      "metadata": {
        "colab": {
          "base_uri": "https://localhost:8080/"
        },
        "id": "K2sF-QS19WIY",
        "outputId": "4a245564-ed05-4f9f-b9b6-4b100381380b"
      },
      "outputs": [
        {
          "output_type": "stream",
          "name": "stdout",
          "text": [
            "Model: \"sequential_1\"\n",
            "_________________________________________________________________\n",
            " Layer (type)                Output Shape              Param #   \n",
            "=================================================================\n",
            " conv2d_3 (Conv2D)           (None, 254, 254, 16)      448       \n",
            "                                                                 \n",
            " max_pooling2d_3 (MaxPooling  (None, 127, 127, 16)     0         \n",
            " 2D)                                                             \n",
            "                                                                 \n",
            " conv2d_4 (Conv2D)           (None, 125, 125, 32)      4640      \n",
            "                                                                 \n",
            " max_pooling2d_4 (MaxPooling  (None, 62, 62, 32)       0         \n",
            " 2D)                                                             \n",
            "                                                                 \n",
            " conv2d_5 (Conv2D)           (None, 60, 60, 16)        4624      \n",
            "                                                                 \n",
            " max_pooling2d_5 (MaxPooling  (None, 30, 30, 16)       0         \n",
            " 2D)                                                             \n",
            "                                                                 \n",
            " flatten_1 (Flatten)         (None, 14400)             0         \n",
            "                                                                 \n",
            " dense_2 (Dense)             (None, 256)               3686656   \n",
            "                                                                 \n",
            " dense_3 (Dense)             (None, 1)                 257       \n",
            "                                                                 \n",
            "=================================================================\n",
            "Total params: 3,696,625\n",
            "Trainable params: 3,696,625\n",
            "Non-trainable params: 0\n",
            "_________________________________________________________________\n"
          ]
        }
      ],
      "source": [
        "model.compile('adam', loss=tf.losses.BinaryCrossentropy(), metrics=['accuracy'])\n",
        "model.summary()"
      ]
    },
    {
      "cell_type": "markdown",
      "metadata": {
        "id": "Cvhwht2a_-Is"
      },
      "source": [
        "**Trenowanie**"
      ]
    },
    {
      "cell_type": "code",
      "execution_count": 22,
      "metadata": {
        "colab": {
          "base_uri": "https://localhost:8080/"
        },
        "id": "bUnMQ9s79gx5",
        "outputId": "ed467e58-067c-4ded-8d0d-b54e5a298a8f"
      },
      "outputs": [
        {
          "output_type": "stream",
          "name": "stdout",
          "text": [
            "Epoch 1/22\n",
            "17/17 [==============================] - 39s 2s/step - loss: 0.6634 - accuracy: 0.5699 - val_loss: 0.6533 - val_accuracy: 0.6562\n",
            "Epoch 2/22\n",
            "17/17 [==============================] - 35s 2s/step - loss: 0.5916 - accuracy: 0.6930 - val_loss: 0.5254 - val_accuracy: 0.7188\n",
            "Epoch 3/22\n",
            "17/17 [==============================] - 33s 2s/step - loss: 0.4492 - accuracy: 0.7960 - val_loss: 0.3517 - val_accuracy: 0.8687\n",
            "Epoch 4/22\n",
            "17/17 [==============================] - 34s 2s/step - loss: 0.3006 - accuracy: 0.8897 - val_loss: 0.3900 - val_accuracy: 0.8125\n",
            "Epoch 5/22\n",
            "17/17 [==============================] - 34s 2s/step - loss: 0.2692 - accuracy: 0.8952 - val_loss: 0.1986 - val_accuracy: 0.9312\n",
            "Epoch 6/22\n",
            "17/17 [==============================] - 37s 2s/step - loss: 0.2057 - accuracy: 0.9136 - val_loss: 0.1707 - val_accuracy: 0.9312\n",
            "Epoch 7/22\n",
            "17/17 [==============================] - 34s 2s/step - loss: 0.1631 - accuracy: 0.9393 - val_loss: 0.1414 - val_accuracy: 0.9500\n",
            "Epoch 8/22\n",
            "17/17 [==============================] - 35s 2s/step - loss: 0.1264 - accuracy: 0.9577 - val_loss: 0.1369 - val_accuracy: 0.9312\n",
            "Epoch 9/22\n",
            "17/17 [==============================] - 33s 2s/step - loss: 0.0786 - accuracy: 0.9743 - val_loss: 0.1077 - val_accuracy: 0.9688\n",
            "Epoch 10/22\n",
            "17/17 [==============================] - 34s 2s/step - loss: 0.0640 - accuracy: 0.9816 - val_loss: 0.0568 - val_accuracy: 0.9875\n",
            "Epoch 11/22\n",
            "17/17 [==============================] - 34s 2s/step - loss: 0.0209 - accuracy: 0.9982 - val_loss: 0.0422 - val_accuracy: 0.9937\n",
            "Epoch 12/22\n",
            "17/17 [==============================] - 36s 2s/step - loss: 0.0182 - accuracy: 0.9982 - val_loss: 0.0196 - val_accuracy: 1.0000\n",
            "Epoch 13/22\n",
            "17/17 [==============================] - 33s 2s/step - loss: 0.0175 - accuracy: 0.9982 - val_loss: 0.0229 - val_accuracy: 1.0000\n",
            "Epoch 14/22\n",
            "17/17 [==============================] - 34s 2s/step - loss: 0.0197 - accuracy: 0.9926 - val_loss: 0.0147 - val_accuracy: 1.0000\n",
            "Epoch 15/22\n",
            "17/17 [==============================] - 33s 2s/step - loss: 0.0092 - accuracy: 1.0000 - val_loss: 0.0191 - val_accuracy: 0.9937\n",
            "Epoch 16/22\n",
            "17/17 [==============================] - 33s 2s/step - loss: 0.0049 - accuracy: 1.0000 - val_loss: 0.0067 - val_accuracy: 1.0000\n",
            "Epoch 17/22\n",
            "17/17 [==============================] - 39s 2s/step - loss: 0.0061 - accuracy: 0.9982 - val_loss: 0.0117 - val_accuracy: 0.9937\n",
            "Epoch 18/22\n",
            "17/17 [==============================] - 34s 2s/step - loss: 0.0082 - accuracy: 1.0000 - val_loss: 0.0244 - val_accuracy: 0.9937\n",
            "Epoch 19/22\n",
            "17/17 [==============================] - 33s 2s/step - loss: 0.0127 - accuracy: 0.9982 - val_loss: 0.0095 - val_accuracy: 1.0000\n",
            "Epoch 20/22\n",
            "17/17 [==============================] - 34s 2s/step - loss: 0.0102 - accuracy: 0.9982 - val_loss: 0.0245 - val_accuracy: 0.9937\n",
            "Epoch 21/22\n",
            "17/17 [==============================] - 34s 2s/step - loss: 0.0072 - accuracy: 0.9982 - val_loss: 0.0056 - val_accuracy: 1.0000\n",
            "Epoch 22/22\n",
            "17/17 [==============================] - 34s 2s/step - loss: 0.0067 - accuracy: 1.0000 - val_loss: 0.0068 - val_accuracy: 1.0000\n"
          ]
        }
      ],
      "source": [
        "logdir='logs'\n",
        "tensorboard_callback = tf.keras.callbacks.TensorBoard(log_dir=logdir)\n",
        "hist = model.fit(train, epochs=22, validation_data=val, callbacks=[tensorboard_callback])"
      ]
    },
    {
      "cell_type": "code",
      "source": [
        "tf.keras.utils.plot_model(model)"
      ],
      "metadata": {
        "colab": {
          "base_uri": "https://localhost:8080/",
          "height": 953
        },
        "id": "TQ0wBqHVbyxw",
        "outputId": "fd784abd-3181-4d85-902e-4d289eb9307d"
      },
      "execution_count": 23,
      "outputs": [
        {
          "output_type": "execute_result",
          "data": {
            "image/png": "[encoded data removed]",
            "text/plain": [
              "<IPython.core.display.Image object>"
            ]
          },
          "metadata": {},
          "execution_count": 23
        }
      ]
    },
    {
      "cell_type": "markdown",
      "metadata": {
        "id": "QIM6PKtAAEdM"
      },
      "source": [
        "**Wykresy**"
      ]
    },
    {
      "cell_type": "code",
      "execution_count": 24,
      "metadata": {
        "id": "7rFjMHFP9g0E",
        "colab": {
          "base_uri": "https://localhost:8080/",
          "height": 571
        },
        "outputId": "3e5c0292-e7da-4cbb-acb3-0b7bbe80dc16"
      },
      "outputs": [
        {
          "output_type": "display_data",
          "data": {
            "text/plain": [
              "<Figure size 432x288 with 1 Axes>"
            ],
            "image/png": "[encoded data removed]"
          },
          "metadata": {
            "needs_background": "light"
          }
        },
        {
          "output_type": "display_data",
          "data": {
            "text/plain": [
              "<Figure size 432x288 with 1 Axes>"
            ],
            "image/png": "[encoded data removed]"
          },
          "metadata": {
            "needs_background": "light"
          }
        }
      ],
      "source": [
        "fig = plt.figure()\n",
        "plt.plot(hist.history['loss'], color='teal', label='loss')\n",
        "plt.plot(hist.history['val_loss'], color='orange', label='val_loss')\n",
        "fig.suptitle('Loss', fontsize=20)\n",
        "plt.legend(loc=\"upper left\")\n",
        "plt.show()\n",
        "\n",
        "fig = plt.figure()\n",
        "plt.plot(hist.history['accuracy'], color='teal', label='accuracy')\n",
        "plt.plot(hist.history['val_accuracy'], color='orange', label='val_accuracy')\n",
        "fig.suptitle('Accuracy', fontsize=20)\n",
        "plt.legend(loc=\"upper left\")\n",
        "plt.show()"
      ]
    },
    {
      "cell_type": "markdown",
      "metadata": {
        "id": "HO2d6ivU_WRV"
      },
      "source": [
        "**Test**"
      ]
    },
    {
      "cell_type": "code",
      "execution_count": 25,
      "metadata": {
        "id": "L5B0Of0L_BSB",
        "colab": {
          "base_uri": "https://localhost:8080/",
          "height": 269
        },
        "outputId": "6335a295-1287-4797-9495-77cadb053ac0"
      },
      "outputs": [
        {
          "output_type": "display_data",
          "data": {
            "text/plain": [
              "<Figure size 432x288 with 1 Axes>"
            ],
            "image/png": "[encoded data removed]"
          },
          "metadata": {
            "needs_background": "light"
          }
        }
      ],
      "source": [
        "\n",
        "img1 = cv2.imread('/content/gdrive/MyDrive/dat/smietniki/smietnik1.jpg')\n",
        "resize = tf.image.resize(img1, (256,256))\n",
        "plt.imshow(resize.numpy().astype(int))\n",
        "plt.show()"
      ]
    },
    {
      "cell_type": "code",
      "execution_count": 26,
      "metadata": {
        "id": "bY19tUiu_HLI",
        "colab": {
          "base_uri": "https://localhost:8080/"
        },
        "outputId": "9883a2a4-3fc1-4bb3-f637-fad7a0831a11"
      },
      "outputs": [
        {
          "output_type": "stream",
          "name": "stdout",
          "text": [
            "1/1 [==============================] - 0s 153ms/step\n",
            "Predicted class is Lawka\n"
          ]
        }
      ],
      "source": [
        "yhat = model.predict(np.expand_dims(resize/255, 0))\n",
        "yhat\n",
        "if yhat > 0.5: \n",
        "    print(f'Predicted class is Smietnik')\n",
        "else:\n",
        "    print(f'Predicted class is Lawka')"
      ]
    },
    {
      "cell_type": "code",
      "source": [
        "\n",
        "\n",
        "data_directory = Path('gdrive/MyDrive/data_widzenie').resolve()\n",
        "\n",
        "X, y = [], []\n",
        "for dir in data_directory.iterdir():\n",
        "    for file in dir.iterdir():\n",
        "        img = cv2.imread(str(file))\n",
        "        img = cv2.resize(img, (256, 256))\n",
        "        X.append(img)\n",
        "        y.append(dir.name)\n",
        "\n",
        "X = np.array(X)\n",
        "y = np.array(y).reshape(-1, 1)\n",
        "\n",
        "X = X/255\n",
        "X_train, X_test, y_train, y_test = train_test_split(X, y, test_size=0.3, random_state=42)\n",
        "\n",
        "\n",
        "Y_pred = np.argmax(model.predict(X_test), axis=1)\n",
        "cm = confusion_matrix(y_test, Y_pred, labels=np.unique(y_test))\n",
        "disp = ConfusionMatrixDisplay(confusion_matrix=cm,\n",
        "                              display_labels=np.unique(y_test))\n",
        "disp.plot()\n"
      ],
      "metadata": {
        "colab": {
          "base_uri": "https://localhost:8080/",
          "height": 320
        },
        "id": "ZT29_Mr7xHxD",
        "outputId": "d7af3191-f942-41d6-f122-b6e8e71fe910"
      },
      "execution_count": 37,
      "outputs": [
        {
          "output_type": "stream",
          "name": "stdout",
          "text": [
            "8/8 [==============================] - 4s 440ms/step\n"
          ]
        },
        {
          "output_type": "execute_result",
          "data": {
            "text/plain": [
              "<sklearn.metrics._plot.confusion_matrix.ConfusionMatrixDisplay at 0x7f73a09f6af0>"
            ]
          },
          "metadata": {},
          "execution_count": 37
        },
        {
          "output_type": "display_data",
          "data": {
            "text/plain": [
              "<Figure size 432x288 with 2 Axes>"
            ],
            "image/png": "[encoded data removed]"
          },
          "metadata": {
            "needs_background": "light"
          }
        }
      ]
    },
    {
      "cell_type": "code",
      "source": [
        "print(X_train)"
      ],
      "metadata": {
        "colab": {
          "base_uri": "https://localhost:8080/"
        },
        "id": "HWNG6hWSiYhb",
        "outputId": "6c2fd9ed-0fdb-4ff2-a3ca-8a6c479191cd"
      },
      "execution_count": 34,
      "outputs": [
        {
          "output_type": "stream",
          "name": "stdout",
          "text": [
            "[[[[0.55686275 0.56470588 0.56862745]\n",
            "   [0.55686275 0.56470588 0.56862745]\n",
            "   [0.55686275 0.56470588 0.56862745]\n",
            "   ...\n",
            "   [0.13333333 0.21176471 0.22745098]\n",
            "   [0.16078431 0.23529412 0.25098039]\n",
            "   [0.16862745 0.24313725 0.25490196]]\n",
            "\n",
            "  [[0.55294118 0.56078431 0.56470588]\n",
            "   [0.55294118 0.56078431 0.56470588]\n",
            "   [0.55294118 0.56078431 0.56470588]\n",
            "   ...\n",
            "   [0.13333333 0.21176471 0.22745098]\n",
            "   [0.16862745 0.24313725 0.25490196]\n",
            "   [0.17254902 0.25098039 0.2627451 ]]\n",
            "\n",
            "  [[0.54901961 0.55686275 0.56078431]\n",
            "   [0.54901961 0.55686275 0.56078431]\n",
            "   [0.54901961 0.55686275 0.56078431]\n",
            "   ...\n",
            "   [0.12941176 0.20784314 0.22352941]\n",
            "   [0.16470588 0.24313725 0.25882353]\n",
            "   [0.17254902 0.25098039 0.2627451 ]]\n",
            "\n",
            "  ...\n",
            "\n",
            "  [[0.63529412 0.63529412 0.63529412]\n",
            "   [0.63529412 0.63529412 0.63529412]\n",
            "   [0.63529412 0.63529412 0.63529412]\n",
            "   ...\n",
            "   [0.30196078 0.26666667 0.25098039]\n",
            "   [0.30588235 0.27058824 0.25490196]\n",
            "   [0.30588235 0.27058824 0.25490196]]\n",
            "\n",
            "  [[0.63921569 0.63921569 0.63921569]\n",
            "   [0.63921569 0.63921569 0.63921569]\n",
            "   [0.63921569 0.63921569 0.63921569]\n",
            "   ...\n",
            "   [0.30980392 0.2745098  0.25490196]\n",
            "   [0.31372549 0.27843137 0.2627451 ]\n",
            "   [0.31372549 0.27843137 0.2627451 ]]\n",
            "\n",
            "  [[0.64313725 0.64313725 0.64313725]\n",
            "   [0.64313725 0.64313725 0.64313725]\n",
            "   [0.64313725 0.64313725 0.64313725]\n",
            "   ...\n",
            "   [0.31372549 0.27843137 0.25882353]\n",
            "   [0.32156863 0.28235294 0.26666667]\n",
            "   [0.32156863 0.28235294 0.26666667]]]\n",
            "\n",
            "\n",
            " [[[0.41568627 0.36078431 0.36078431]\n",
            "   [0.41568627 0.36078431 0.36078431]\n",
            "   [0.41568627 0.36078431 0.36078431]\n",
            "   ...\n",
            "   [0.02745098 0.17647059 0.10980392]\n",
            "   [0.02745098 0.17647059 0.10980392]\n",
            "   [0.02745098 0.17647059 0.10980392]]\n",
            "\n",
            "  [[0.41568627 0.36078431 0.36078431]\n",
            "   [0.41568627 0.36078431 0.36078431]\n",
            "   [0.41568627 0.36078431 0.36078431]\n",
            "   ...\n",
            "   [0.02745098 0.17647059 0.10980392]\n",
            "   [0.02745098 0.17647059 0.10980392]\n",
            "   [0.02745098 0.17647059 0.10980392]]\n",
            "\n",
            "  [[0.40392157 0.35294118 0.35294118]\n",
            "   [0.40392157 0.35294118 0.35294118]\n",
            "   [0.40392157 0.35294118 0.35294118]\n",
            "   ...\n",
            "   [0.02745098 0.17254902 0.10588235]\n",
            "   [0.02745098 0.17254902 0.10588235]\n",
            "   [0.02745098 0.17254902 0.10588235]]\n",
            "\n",
            "  ...\n",
            "\n",
            "  [[0.40784314 0.35686275 0.3372549 ]\n",
            "   [0.40784314 0.35686275 0.3372549 ]\n",
            "   [0.40784314 0.35686275 0.3372549 ]\n",
            "   ...\n",
            "   [0.40784314 0.35294118 0.33333333]\n",
            "   [0.40784314 0.35294118 0.33333333]\n",
            "   [0.40784314 0.35294118 0.33333333]]\n",
            "\n",
            "  [[0.41568627 0.36078431 0.34117647]\n",
            "   [0.41568627 0.36078431 0.34117647]\n",
            "   [0.41568627 0.36078431 0.34117647]\n",
            "   ...\n",
            "   [0.4        0.34509804 0.3254902 ]\n",
            "   [0.39607843 0.34509804 0.3254902 ]\n",
            "   [0.39607843 0.34509804 0.3254902 ]]\n",
            "\n",
            "  [[0.41568627 0.36078431 0.34117647]\n",
            "   [0.41568627 0.36078431 0.34117647]\n",
            "   [0.41568627 0.36078431 0.34117647]\n",
            "   ...\n",
            "   [0.39607843 0.34117647 0.3254902 ]\n",
            "   [0.39607843 0.34117647 0.3254902 ]\n",
            "   [0.39607843 0.34117647 0.3254902 ]]]\n",
            "\n",
            "\n",
            " [[[0.54901961 0.51764706 0.45098039]\n",
            "   [0.54901961 0.51764706 0.45098039]\n",
            "   [0.54901961 0.51764706 0.45098039]\n",
            "   ...\n",
            "   [0.54509804 0.55294118 0.52941176]\n",
            "   [0.54509804 0.55294118 0.52941176]\n",
            "   [0.54509804 0.55294118 0.52941176]]\n",
            "\n",
            "  [[0.54901961 0.51764706 0.45098039]\n",
            "   [0.54901961 0.51764706 0.45098039]\n",
            "   [0.54901961 0.51764706 0.45098039]\n",
            "   ...\n",
            "   [0.54509804 0.55294118 0.52941176]\n",
            "   [0.54509804 0.55294118 0.52941176]\n",
            "   [0.54509804 0.55294118 0.52941176]]\n",
            "\n",
            "  [[0.54901961 0.51764706 0.45098039]\n",
            "   [0.54901961 0.51764706 0.45098039]\n",
            "   [0.54901961 0.51764706 0.45098039]\n",
            "   ...\n",
            "   [0.54509804 0.55294118 0.52941176]\n",
            "   [0.54509804 0.55294118 0.52941176]\n",
            "   [0.54509804 0.55294118 0.52941176]]\n",
            "\n",
            "  ...\n",
            "\n",
            "  [[0.49411765 0.48235294 0.49019608]\n",
            "   [0.49411765 0.48235294 0.49019608]\n",
            "   [0.49411765 0.48235294 0.49019608]\n",
            "   ...\n",
            "   [0.15294118 0.25490196 0.23137255]\n",
            "   [0.15294118 0.25490196 0.23137255]\n",
            "   [0.15294118 0.25490196 0.23137255]]\n",
            "\n",
            "  [[0.49411765 0.48235294 0.49019608]\n",
            "   [0.49411765 0.48235294 0.49019608]\n",
            "   [0.49411765 0.48235294 0.49019608]\n",
            "   ...\n",
            "   [0.15294118 0.25490196 0.23137255]\n",
            "   [0.15294118 0.25490196 0.23137255]\n",
            "   [0.15294118 0.25490196 0.23137255]]\n",
            "\n",
            "  [[0.49411765 0.48235294 0.49019608]\n",
            "   [0.49411765 0.48235294 0.49019608]\n",
            "   [0.49411765 0.48235294 0.49019608]\n",
            "   ...\n",
            "   [0.15294118 0.25490196 0.23137255]\n",
            "   [0.15294118 0.25490196 0.23137255]\n",
            "   [0.15294118 0.25490196 0.23137255]]]\n",
            "\n",
            "\n",
            " ...\n",
            "\n",
            "\n",
            " [[[0.09803922 0.16862745 0.21176471]\n",
            "   [0.10196078 0.17254902 0.21568627]\n",
            "   [0.11372549 0.18431373 0.21960784]\n",
            "   ...\n",
            "   [0.17254902 0.21176471 0.28235294]\n",
            "   [0.17254902 0.21176471 0.28235294]\n",
            "   [0.17254902 0.21176471 0.28235294]]\n",
            "\n",
            "  [[0.09019608 0.16078431 0.20392157]\n",
            "   [0.09411765 0.16862745 0.20784314]\n",
            "   [0.10588235 0.18039216 0.21568627]\n",
            "   ...\n",
            "   [0.17254902 0.21176471 0.28235294]\n",
            "   [0.17254902 0.21176471 0.28235294]\n",
            "   [0.17254902 0.21176471 0.28235294]]\n",
            "\n",
            "  [[0.07058824 0.14509804 0.18823529]\n",
            "   [0.07843137 0.15294118 0.19607843]\n",
            "   [0.09803922 0.17254902 0.21176471]\n",
            "   ...\n",
            "   [0.17254902 0.21176471 0.28235294]\n",
            "   [0.17254902 0.21176471 0.28235294]\n",
            "   [0.17254902 0.21176471 0.28235294]]\n",
            "\n",
            "  ...\n",
            "\n",
            "  [[0.57254902 0.58431373 0.61568627]\n",
            "   [0.57254902 0.58431373 0.61568627]\n",
            "   [0.57254902 0.58431373 0.61568627]\n",
            "   ...\n",
            "   [0.54509804 0.56078431 0.58039216]\n",
            "   [0.53333333 0.54901961 0.56862745]\n",
            "   [0.5254902  0.54117647 0.56078431]]\n",
            "\n",
            "  [[0.57254902 0.58431373 0.61568627]\n",
            "   [0.57254902 0.58431373 0.61568627]\n",
            "   [0.57254902 0.58431373 0.61568627]\n",
            "   ...\n",
            "   [0.54117647 0.56078431 0.58039216]\n",
            "   [0.54509804 0.56078431 0.58039216]\n",
            "   [0.54901961 0.56078431 0.58431373]]\n",
            "\n",
            "  [[0.57254902 0.58431373 0.61568627]\n",
            "   [0.57254902 0.58431373 0.61568627]\n",
            "   [0.57254902 0.58431373 0.61568627]\n",
            "   ...\n",
            "   [0.54117647 0.55686275 0.57647059]\n",
            "   [0.55294118 0.56862745 0.58823529]\n",
            "   [0.55686275 0.57254902 0.59215686]]]\n",
            "\n",
            "\n",
            " [[[0.6        0.55294118 0.54901961]\n",
            "   [0.6        0.55294118 0.54901961]\n",
            "   [0.6        0.55294118 0.54901961]\n",
            "   ...\n",
            "   [0.2627451  0.21176471 0.18039216]\n",
            "   [0.2627451  0.21176471 0.18039216]\n",
            "   [0.2627451  0.21176471 0.18039216]]\n",
            "\n",
            "  [[0.6        0.55294118 0.54901961]\n",
            "   [0.6        0.55294118 0.54901961]\n",
            "   [0.6        0.55294118 0.54901961]\n",
            "   ...\n",
            "   [0.2627451  0.21176471 0.18039216]\n",
            "   [0.2627451  0.21176471 0.17647059]\n",
            "   [0.2627451  0.21176471 0.17647059]]\n",
            "\n",
            "  [[0.60392157 0.55686275 0.55294118]\n",
            "   [0.60392157 0.55686275 0.55294118]\n",
            "   [0.60392157 0.55686275 0.55294118]\n",
            "   ...\n",
            "   [0.24705882 0.19215686 0.16078431]\n",
            "   [0.24313725 0.19215686 0.16078431]\n",
            "   [0.24313725 0.19215686 0.16078431]]\n",
            "\n",
            "  ...\n",
            "\n",
            "  [[0.58039216 0.62352941 0.61176471]\n",
            "   [0.58039216 0.62352941 0.61176471]\n",
            "   [0.58039216 0.62352941 0.61176471]\n",
            "   ...\n",
            "   [0.6627451  0.70196078 0.70196078]\n",
            "   [0.6627451  0.70196078 0.70196078]\n",
            "   [0.6627451  0.70196078 0.70196078]]\n",
            "\n",
            "  [[0.58039216 0.62352941 0.60784314]\n",
            "   [0.58039216 0.62352941 0.60784314]\n",
            "   [0.58039216 0.62352941 0.60784314]\n",
            "   ...\n",
            "   [0.66666667 0.70588235 0.70588235]\n",
            "   [0.66666667 0.70588235 0.70588235]\n",
            "   [0.66666667 0.70588235 0.70588235]]\n",
            "\n",
            "  [[0.58039216 0.62352941 0.60784314]\n",
            "   [0.58039216 0.62352941 0.60784314]\n",
            "   [0.58039216 0.62352941 0.60784314]\n",
            "   ...\n",
            "   [0.66666667 0.70588235 0.70588235]\n",
            "   [0.66666667 0.70588235 0.70588235]\n",
            "   [0.66666667 0.70588235 0.70588235]]]\n",
            "\n",
            "\n",
            " [[[0.45098039 0.45882353 0.49803922]\n",
            "   [0.44313725 0.45098039 0.49019608]\n",
            "   [0.43921569 0.44705882 0.48627451]\n",
            "   ...\n",
            "   [0.57254902 0.59215686 0.62745098]\n",
            "   [0.57254902 0.59215686 0.62745098]\n",
            "   [0.57254902 0.59215686 0.63137255]]\n",
            "\n",
            "  [[0.43137255 0.43921569 0.47843137]\n",
            "   [0.42352941 0.43137255 0.47058824]\n",
            "   [0.41568627 0.42745098 0.4627451 ]\n",
            "   ...\n",
            "   [0.58431373 0.60392157 0.64313725]\n",
            "   [0.58431373 0.60392157 0.64313725]\n",
            "   [0.58039216 0.60392157 0.63921569]]\n",
            "\n",
            "  [[0.41568627 0.42352941 0.4627451 ]\n",
            "   [0.41176471 0.41960784 0.45882353]\n",
            "   [0.40784314 0.41960784 0.45882353]\n",
            "   ...\n",
            "   [0.58431373 0.60784314 0.64313725]\n",
            "   [0.58431373 0.60784314 0.64313725]\n",
            "   [0.58039216 0.60392157 0.63921569]]\n",
            "\n",
            "  ...\n",
            "\n",
            "  [[0.51764706 0.51372549 0.54901961]\n",
            "   [0.51764706 0.51372549 0.54901961]\n",
            "   [0.51764706 0.51372549 0.54901961]\n",
            "   ...\n",
            "   [0.1254902  0.11372549 0.16078431]\n",
            "   [0.12156863 0.10980392 0.16078431]\n",
            "   [0.09803922 0.09019608 0.14117647]]\n",
            "\n",
            "  [[0.50588235 0.50196078 0.5372549 ]\n",
            "   [0.50588235 0.50196078 0.5372549 ]\n",
            "   [0.50588235 0.50196078 0.5372549 ]\n",
            "   ...\n",
            "   [0.11764706 0.10980392 0.15686275]\n",
            "   [0.1254902  0.11764706 0.16862745]\n",
            "   [0.10980392 0.10196078 0.15294118]]\n",
            "\n",
            "  [[0.49019608 0.48627451 0.52156863]\n",
            "   [0.49019608 0.48627451 0.52156863]\n",
            "   [0.49019608 0.48627451 0.52156863]\n",
            "   ...\n",
            "   [0.1254902  0.11372549 0.16470588]\n",
            "   [0.1372549  0.12941176 0.18039216]\n",
            "   [0.1254902  0.11372549 0.16470588]]]]\n"
          ]
        }
      ]
    },
    {
      "cell_type": "code",
      "execution_count": 28,
      "metadata": {
        "id": "CQ8oRhEuxfzS",
        "colab": {
          "base_uri": "https://localhost:8080/"
        },
        "outputId": "e892c381-3c41-45a4-9979-9784bcedc478"
      },
      "outputs": [
        {
          "output_type": "stream",
          "name": "stdout",
          "text": [
            "Found 10 files belonging to 1 classes.\n"
          ]
        }
      ],
      "source": [
        "data_val_net = tf.keras.utils.image_dataset_from_directory('/content/gdrive/MyDrive/lawki_net')"
      ]
    },
    {
      "cell_type": "markdown",
      "metadata": {
        "id": "7Kfpf6__uNLW"
      },
      "source": [
        "Sprawdzanie klasyfikacji na zdjęciach ławek, które zostały pobrane z internetu"
      ]
    },
    {
      "cell_type": "code",
      "execution_count": 29,
      "metadata": {
        "id": "mKFrj0C4qyLX",
        "colab": {
          "base_uri": "https://localhost:8080/"
        },
        "outputId": "b4574b30-dadc-49e0-ced5-d6d3d269f140"
      },
      "outputs": [
        {
          "output_type": "stream",
          "name": "stdout",
          "text": [
            "1/1 [==============================] - 0s 40ms/step\n",
            "Predicted class is Lawka\n",
            "1/1 [==============================] - 0s 45ms/step\n",
            "Predicted class is Lawka\n",
            "1/1 [==============================] - 0s 35ms/step\n",
            "Predicted class is Lawka\n",
            "1/1 [==============================] - 0s 35ms/step\n",
            "Predicted class is Lawka\n",
            "1/1 [==============================] - 0s 35ms/step\n",
            "Predicted class is Lawka\n",
            "1/1 [==============================] - 0s 35ms/step\n",
            "Predicted class is Lawka\n",
            "1/1 [==============================] - 0s 42ms/step\n",
            "Predicted class is Lawka\n",
            "1/1 [==============================] - 0s 39ms/step\n",
            "Predicted class is Lawka\n",
            "1/1 [==============================] - 0s 34ms/step\n",
            "Predicted class is Lawka\n",
            "1/1 [==============================] - 0s 36ms/step\n",
            "Predicted class is Lawka\n"
          ]
        }
      ],
      "source": [
        "for i in range(1,11):\n",
        "  img1 = cv2.imread('/content/gdrive/MyDrive/lawki_net/law/lawka_n_'+ str(i) +'.jpg' )\n",
        "  resize = tf.image.resize(img1, (256,256))\n",
        "  pred_net = model.predict(np.expand_dims(resize/255, 0))\n",
        "  if pred_net > 0.5: \n",
        "    print(f'Predicted class is Smietnik')\n",
        "  else:\n",
        "    print(f'Predicted class is Lawka')\n"
      ]
    },
    {
      "cell_type": "code",
      "execution_count": 30,
      "metadata": {
        "id": "ueY-CESPrVZK",
        "colab": {
          "base_uri": "https://localhost:8080/"
        },
        "outputId": "d95bc7c4-68f5-4217-f62c-684638ff31fc"
      },
      "outputs": [
        {
          "output_type": "stream",
          "name": "stdout",
          "text": [
            "Downloading data from https://storage.googleapis.com/tensorflow/keras-applications/vgg16/vgg16_weights_tf_dim_ordering_tf_kernels.h5\n",
            "553467096/553467096 [==============================] - 4s 0us/step\n",
            "1/1 [==============================] - 1s 979ms/step\n",
            "Downloading data from https://storage.googleapis.com/download.tensorflow.org/data/imagenet_class_index.json\n",
            "35363/35363 [==============================] - 0s 0us/step\n",
            "1/1 [==============================] - 1s 786ms/step\n",
            "1/1 [==============================] - 1s 754ms/step\n"
          ]
        },
        {
          "output_type": "stream",
          "name": "stderr",
          "text": [
            "WARNING:tensorflow:5 out of the last 33 calls to <function Model.make_predict_function.<locals>.predict_function at 0x7f739f0243a0> triggered tf.function retracing. Tracing is expensive and the excessive number of tracings could be due to (1) creating @tf.function repeatedly in a loop, (2) passing tensors with different shapes, (3) passing Python objects instead of tensors. For (1), please define your @tf.function outside of the loop. For (2), @tf.function has reduce_retracing=True option that can avoid unnecessary retracing. For (3), please refer to https://www.tensorflow.org/guide/function#controlling_retracing and https://www.tensorflow.org/api_docs/python/tf/function for  more details.\n"
          ]
        },
        {
          "output_type": "stream",
          "name": "stdout",
          "text": [
            "1/1 [==============================] - 1s 1s/step\n"
          ]
        },
        {
          "output_type": "stream",
          "name": "stderr",
          "text": [
            "WARNING:tensorflow:6 out of the last 34 calls to <function Model.make_predict_function.<locals>.predict_function at 0x7f739f024670> triggered tf.function retracing. Tracing is expensive and the excessive number of tracings could be due to (1) creating @tf.function repeatedly in a loop, (2) passing tensors with different shapes, (3) passing Python objects instead of tensors. For (1), please define your @tf.function outside of the loop. For (2), @tf.function has reduce_retracing=True option that can avoid unnecessary retracing. For (3), please refer to https://www.tensorflow.org/guide/function#controlling_retracing and https://www.tensorflow.org/api_docs/python/tf/function for  more details.\n"
          ]
        },
        {
          "output_type": "stream",
          "name": "stdout",
          "text": [
            "1/1 [==============================] - 1s 735ms/step\n",
            "1/1 [==============================] - 1s 726ms/step\n",
            "1/1 [==============================] - 1s 1s/step\n",
            "1/1 [==============================] - 1s 737ms/step\n",
            "1/1 [==============================] - 1s 736ms/step\n",
            "1/1 [==============================] - 1s 736ms/step\n"
          ]
        }
      ],
      "source": [
        "for i in range(1,11):\n",
        "  img_ = '/content/gdrive/MyDrive/lawki_net/law/lawka_n_'+ str(i) +'.jpg'\n",
        "  obraz = np.expand_dims(image.img_to_array(image.load_img(img_, target_size=(224,224,3))), axis=0)\n",
        "  nn = tf.keras.applications.vgg16.VGG16(weights='imagenet')\n",
        "  y_pred = nn.predict(obraz)\n",
        "  tf.keras.applications.vgg16.decode_predictions(y_pred, top=2)\n",
        "\n"
      ]
    }
  ],
  "metadata": {
    "colab": {
      "provenance": []
    },
    "kernelspec": {
      "display_name": "Python 3",
      "name": "python3"
    },
    "language_info": {
      "name": "python"
    }
  },
  "nbformat": 4,
  "nbformat_minor": 0
}